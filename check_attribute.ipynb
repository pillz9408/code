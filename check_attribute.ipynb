{
 "cells": [
  {
   "cell_type": "code",
   "execution_count": 8,
   "metadata": {},
   "outputs": [],
   "source": [
    "import os\n",
    "import json\n",
    "from tqdm import tqdm"
   ]
  },
  {
   "cell_type": "code",
   "execution_count": 9,
   "metadata": {},
   "outputs": [],
   "source": [
    "data_path = r\"C:\\Users\\Smart\\Desktop\\datas\\emergency_vehicle\\emergency_labeling_data\\CCTV_data\\labeling_data\""
   ]
  },
  {
   "cell_type": "code",
   "execution_count": 10,
   "metadata": {},
   "outputs": [
    {
     "name": "stderr",
     "output_type": "stream",
     "text": [
      "100%|██████████| 3559/3559 [00:00<00:00, 5977.72it/s]\n"
     ]
    }
   ],
   "source": [
    "amb = 0\n",
    "police = 0\n",
    "fire = 0\n",
    "\n",
    "for file in tqdm(os.listdir(data_path)):\n",
    "    if \"json\" in file:\n",
    "        with open(os.path.join(data_path, file)) as f:\n",
    "            for line in f:\n",
    "                if \"구급차\" in line:\n",
    "                    amb += 1\n",
    "                elif \"경찰차\" in line:\n",
    "                    police += 1\n",
    "                elif \"소방차\" in line:\n",
    "                    fire += 1"
   ]
  },
  {
   "cell_type": "code",
   "execution_count": 11,
   "metadata": {},
   "outputs": [
    {
     "name": "stdout",
     "output_type": "stream",
     "text": [
      "소방차 1167개, 경찰차 2610개, 구급차827개 \n"
     ]
    }
   ],
   "source": [
    "print(f\"소방차 {fire}개, 경찰차 {police}개, 구급차{amb}개 \")"
   ]
  }
 ],
 "metadata": {
  "kernelspec": {
   "display_name": "base",
   "language": "python",
   "name": "python3"
  },
  "language_info": {
   "codemirror_mode": {
    "name": "ipython",
    "version": 3
   },
   "file_extension": ".py",
   "mimetype": "text/x-python",
   "name": "python",
   "nbconvert_exporter": "python",
   "pygments_lexer": "ipython3",
   "version": "3.11.3"
  },
  "orig_nbformat": 4
 },
 "nbformat": 4,
 "nbformat_minor": 2
}
