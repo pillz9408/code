{
 "cells": [
  {
   "cell_type": "code",
   "execution_count": 13,
   "metadata": {},
   "outputs": [],
   "source": [
    "import os\n",
    "import json\n",
    "from PIL import Image\n",
    "from tqdm import tqdm"
   ]
  },
  {
   "cell_type": "code",
   "execution_count": 14,
   "metadata": {},
   "outputs": [],
   "source": [
    "# 폴더를 가져옵니다.\n",
    "raw_data_folder = r\"C:\\Users\\Smart\\Desktop\\datas\\general_vehicle_full\\general_labeling_data\"\n",
    "output_folder = r\"C:\\Users\\Smart\\Desktop\\code\\general_labeling_data\"\n",
    "img_folder = r\"C:\\Users\\Smart\\Desktop\\datas\\general_vehicle_full\\general_img\""
   ]
  },
  {
   "cell_type": "code",
   "execution_count": 15,
   "metadata": {},
   "outputs": [],
   "source": [
    "# 폴더의 파일 목록을 가져옵니다.\n",
    "files = os.listdir(raw_data_folder)"
   ]
  },
  {
   "cell_type": "code",
   "execution_count": 16,
   "metadata": {},
   "outputs": [
    {
     "name": "stderr",
     "output_type": "stream",
     "text": [
      "100%|██████████| 32866/32866 [08:20<00:00, 65.67it/s]\n"
     ]
    }
   ],
   "source": [
    "# 폴더의 파일 목록을 순회합니다.\n",
    "for file in tqdm(files):\n",
    "    # 파일 이름을 가져옵니다. 확장자를 제거하여 파일 이름만 남깁니다.\n",
    "    filename = os.path.splitext(file)[0]\n",
    "\n",
    "    # 이미지 파일의 경로를 구합니다.\n",
    "    image_path = os.path.join(img_folder, filename + \".jpg\")\n",
    "\n",
    "    # 이미지 파일의 높이와 너비를 구합니다.\n",
    "    with Image.open(image_path) as img:\n",
    "        image_height = img.height\n",
    "        image_width = img.width\n",
    "\n",
    "    # 파일을 읽습니다.\n",
    "    with open(os.path.join(raw_data_folder, file), \"r\", encoding=\"UTF-8\") as f:\n",
    "        data = json.load(f)\n",
    "\n",
    "    # 파일의 키를 이용하여 해당하는 데이터를 가져옵니다.\n",
    "    file_data = data[list(data.keys())[0]]  # 첫 번째 키값을 가져옵니다.\n",
    "\n",
    "    labels = []\n",
    "    shapes = []\n",
    "\n",
    "    for region_id, region_info in file_data[\"regions\"].items():\n",
    "        label = region_info[\"region_attributes\"][\"class\"]\n",
    "        x1 = region_info[\"shape_attributes\"][\"x\"]\n",
    "        y1 = region_info[\"shape_attributes\"][\"y\"]\n",
    "        width = region_info[\"shape_attributes\"][\"width\"]\n",
    "        height = region_info[\"shape_attributes\"][\"height\"]\n",
    "        \n",
    "        if label == \"정상 차량(이륜차 포함)\":\n",
    "            label = \"일반차량\"\n",
    "        elif \"신호등\" in label:\n",
    "            label = \"신호등\" \n",
    "\n",
    "        x2 = x1 + width\n",
    "        y2 = y1 + height\n",
    "\n",
    "        shapes.append({\n",
    "            \"label\": label,\n",
    "            \"points\": [\n",
    "                [x1, y1],\n",
    "                [x2, y2]\n",
    "            ],\n",
    "            \"group_id\": None,\n",
    "            \"description\": \"\",\n",
    "            \"shape_type\": \"rectangle\",\n",
    "            \"flags\": {}\n",
    "        })\n",
    "\n",
    "    annotation = {\n",
    "        \"version\": \"5.2.1\",\n",
    "        \"flags\": {},\n",
    "        \"shapes\": shapes,\n",
    "        \"imagePath\": filename+\".jpg\",\n",
    "        \"imageData\": None,\n",
    "        \"imageHeight\": image_height,\n",
    "        \"imageWidth\": image_width\n",
    "    }\n",
    "\n",
    "    # 라벨링 데이터를 다른 폴더에 .json형식으로 저장합니다.\n",
    "    with open(os.path.join(output_folder, filename + \".json\"), \"w\", encoding='UTF-8') as f:\n",
    "        json.dump(annotation, f, ensure_ascii=False, indent=4)"
   ]
  }
 ],
 "metadata": {
  "kernelspec": {
   "display_name": "base",
   "language": "python",
   "name": "python3"
  },
  "language_info": {
   "codemirror_mode": {
    "name": "ipython",
    "version": 3
   },
   "file_extension": ".py",
   "mimetype": "text/x-python",
   "name": "python",
   "nbconvert_exporter": "python",
   "pygments_lexer": "ipython3",
   "version": "3.11.3"
  },
  "orig_nbformat": 4
 },
 "nbformat": 4,
 "nbformat_minor": 2
}
