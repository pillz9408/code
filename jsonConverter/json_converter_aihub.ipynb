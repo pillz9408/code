{
 "cells": [
  {
   "cell_type": "code",
   "execution_count": 22,
   "metadata": {},
   "outputs": [],
   "source": [
    "import os\n",
    "import json\n",
    "import base64\n",
    "from tqdm import tqdm\n"
   ]
  },
  {
   "cell_type": "code",
   "execution_count": 23,
   "metadata": {},
   "outputs": [
    {
     "name": "stderr",
     "output_type": "stream",
     "text": [
      "  0%|          | 0/4578 [00:00<?, ?it/s]"
     ]
    },
    {
     "name": "stderr",
     "output_type": "stream",
     "text": [
      "100%|██████████| 4578/4578 [04:10<00:00, 18.25it/s]\n"
     ]
    }
   ],
   "source": [
    "# 폴더를 가져옵니다.\n",
    "raw_data_folder = r\"C:\\Users\\Smart\\Desktop\\datas\\emergency_vehicle\\emergency_labeling_data\\ambulance\\labeling_data\"\n",
    "output_folder = r\"C:\\Users\\Smart\\Desktop\\code\\ai_coverted\"\n",
    "img_folder = r\"C:\\Users\\Smart\\Desktop\\datas\\emergency_vehicle\\emergency_img\"\n",
    "\n",
    "# 폴더의 파일 목록을 가져옵니다.\n",
    "files = os.listdir(raw_data_folder)\n",
    "\n",
    "# 폴더의 파일 목록을 순회합니다.\n",
    "for file in tqdm(files):\n",
    "    # 파일 이름을 가져옵니다.\n",
    "    filename = file.split(\".\")[0]\n",
    "\n",
    "    # desktop.ini 파일이면 건너뜁니다.\n",
    "    if file.lower() == \"desktop.ini\":\n",
    "        continue\n",
    "\n",
    "    # 이미지 파일을 열어서 base64로 인코딩합니다.\n",
    "    image_path = os.path.join(img_folder, filename + \".jpg\")\n",
    "    with open(image_path, \"rb\") as img_file:\n",
    "        image_data = base64.b64encode(img_file.read()).decode()\n",
    "\n",
    "    # 파일을 읽습니다.\n",
    "    with open(os.path.join(raw_data_folder, file), \"r\", encoding=\"UTF-8\") as f:\n",
    "        data = json.load(f)\n",
    "\n",
    "    labels = []\n",
    "\n",
    "    for obj in data[\"learningDataInfo\"][\"objects\"]:\n",
    "        annotation = obj[\"annotation\"]\n",
    "        label = data[\"rawDataInfo\"][\"SmallCategoryId\"]\n",
    "\n",
    "        if label == \"구급차\":\n",
    "            label = \"ambulance\"\n",
    "\n",
    "        if annotation == \"bbox\":\n",
    "            tl_x = obj[\"coords\"][\"tl\"][\"x\"]\n",
    "            tl_y = obj[\"coords\"][\"tl\"][\"y\"]\n",
    "            br_x = obj[\"coords\"][\"br\"][\"x\"]\n",
    "            br_y = obj[\"coords\"][\"br\"][\"y\"]\n",
    "            \n",
    "            labels.append({\n",
    "                \"label\": label,\n",
    "                \"points\":[ \n",
    "                        [tl_x, tl_y],\n",
    "                        [br_x, br_y]\n",
    "                ],\n",
    "                \"group_id\": None,\n",
    "                \"description\": \"\",\n",
    "                \"shape_type\": \"rectangle\",\n",
    "                \"flags\": {}\n",
    "            })\n",
    "\n",
    "    annotation = {\n",
    "        \"version\": \"5.2.1\",\n",
    "        \"flags\": {},\n",
    "        \"shapes\": labels,\n",
    "        \"imagePath\": filename + \".jpg\",\n",
    "        \"imageData\": image_data,\n",
    "        \"imageHeight\": 1080,\n",
    "        \"imageWidth\": 1920\n",
    "    }\n",
    "\n",
    "    # 라벨링 데이터를 다른 폴더에 .json 형식으로 저장합니다.\n",
    "    with open(os.path.join(output_folder, filename + \".json\"), \"w\", encoding='UTF-8') as f:\n",
    "        json.dump(annotation, f, ensure_ascii=False, indent=4)"
   ]
  }
 ],
 "metadata": {
  "kernelspec": {
   "display_name": "base",
   "language": "python",
   "name": "python3"
  },
  "language_info": {
   "codemirror_mode": {
    "name": "ipython",
    "version": 3
   },
   "file_extension": ".py",
   "mimetype": "text/x-python",
   "name": "python",
   "nbconvert_exporter": "python",
   "pygments_lexer": "ipython3",
   "version": "3.11.3"
  },
  "orig_nbformat": 4
 },
 "nbformat": 4,
 "nbformat_minor": 2
}
