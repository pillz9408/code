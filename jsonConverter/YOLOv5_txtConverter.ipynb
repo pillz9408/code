{
 "cells": [
  {
   "cell_type": "code",
   "execution_count": 1,
   "metadata": {},
   "outputs": [],
   "source": [
    "import os\n",
    "import json\n",
    "from tqdm import tqdm"
   ]
  },
  {
   "cell_type": "code",
   "execution_count": 2,
   "metadata": {},
   "outputs": [],
   "source": [
    "# 라벨과 클래스 인덱스의 매핑\n",
    "label_to_class = {\n",
    "    \"일반차량\": 0,\n",
    "    \"신호등\": 1,\n",
    "    \"ambulance\": 2,\n",
    "    \"police\": 3,\n",
    "    \"blood_car\": 4,\n",
    "    \"fire_engine\": 5\n",
    "}"
   ]
  },
  {
   "cell_type": "code",
   "execution_count": 11,
   "metadata": {},
   "outputs": [],
   "source": [
    "#원본 json의 폴더와 새로 만드는 txt 폴더 지정\n",
    "json_folder = r\"C:\\Users\\Smart\\Desktop\\datas\\general_vehicle\\general_labeling_data\"\n",
    "txt_folder = r\"C:\\Users\\Smart\\Desktop\\datas\\general_vehicle\\general_txt\""
   ]
  },
  {
   "cell_type": "code",
   "execution_count": 12,
   "metadata": {},
   "outputs": [
    {
     "name": "stderr",
     "output_type": "stream",
     "text": [
      "100%|██████████| 80000/80000 [00:53<00:00, 1488.95it/s]\n"
     ]
    }
   ],
   "source": [
    "for filename in tqdm(os.listdir(json_folder)):\n",
    "    if filename.endswith(\".json\"):\n",
    "        json_path = os.path.join(json_folder, filename)\n",
    "\n",
    "        with open(json_path, \"r\", encoding=\"utf-8\") as json_file:\n",
    "            data = json.load(json_file)\n",
    "\n",
    "        txt_path = os.path.join(txt_folder, filename.replace(\".json\", \".txt\"))\n",
    "\n",
    "        with open(txt_path, \"w\", encoding=\"utf-8\") as txt_file:\n",
    "            for shape in data[\"shapes\"]:\n",
    "                label = shape[\"label\"]\n",
    "                x1, y1 = shape[\"points\"][0]\n",
    "                x2, y2 = shape[\"points\"][1]\n",
    "                \n",
    "                if label in label_to_class:\n",
    "                    class_index = label_to_class[label]\n",
    "                    \n",
    "                    width = data[\"imageWidth\"]\n",
    "                    height = data[\"imageHeight\"]\n",
    "                    x_center = (x1 + x2) / (2 * width)\n",
    "                    y_center = (y1 + y2) / (2 * height)\n",
    "                    width_yolo = (x2 - x1) / width\n",
    "                    height_yolo = (y2 - y1) / height\n",
    "                    \n",
    "                    line = f\"{class_index} {x_center:.6f} {y_center:.6f} {width_yolo:.6f} {height_yolo:.6f}\"\n",
    "                    txt_file.write(line + \"\\n\")"
   ]
  }
 ],
 "metadata": {
  "kernelspec": {
   "display_name": "base",
   "language": "python",
   "name": "python3"
  },
  "language_info": {
   "codemirror_mode": {
    "name": "ipython",
    "version": 3
   },
   "file_extension": ".py",
   "mimetype": "text/x-python",
   "name": "python",
   "nbconvert_exporter": "python",
   "pygments_lexer": "ipython3",
   "version": "3.11.3"
  },
  "orig_nbformat": 4
 },
 "nbformat": 4,
 "nbformat_minor": 2
}
