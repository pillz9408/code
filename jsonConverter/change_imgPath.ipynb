{
 "cells": [
  {
   "cell_type": "code",
   "execution_count": 7,
   "metadata": {},
   "outputs": [],
   "source": [
    "import os\n",
    "import json\n",
    "from tqdm import tqdm"
   ]
  },
  {
   "cell_type": "code",
   "execution_count": 8,
   "metadata": {},
   "outputs": [],
   "source": [
    "#json 폴더\n",
    "json_folder = r\"C:\\Users\\Smart\\Desktop\\datas\\traffic_full\\labeling_data\""
   ]
  },
  {
   "cell_type": "code",
   "execution_count": 9,
   "metadata": {},
   "outputs": [
    {
     "name": "stderr",
     "output_type": "stream",
     "text": [
      "100%|██████████| 89754/89754 [01:06<00:00, 1356.88it/s]\n"
     ]
    }
   ],
   "source": [
    "for filename in tqdm(os.listdir(json_folder)):\n",
    "    if filename.endswith(\".json\"):\n",
    "        json_path = os.path.join(json_folder, filename)\n",
    "\n",
    "        with open(json_path, \"r\", encoding=\"utf-8\") as json_file:\n",
    "            data = json.load(json_file)\n",
    "\n",
    "        new_image_path = filename.replace(\".json\", \".jpg\")\n",
    "        data[\"imagePath\"] = new_image_path\n",
    "\n",
    "        # 수정한 데이터를 JSON 파일에 다시 씁니다.\n",
    "        with open(json_path, \"w\", encoding=\"utf-8\") as json_file:\n",
    "            json.dump(data, json_file, ensure_ascii=False, indent=4)"
   ]
  }
 ],
 "metadata": {
  "kernelspec": {
   "display_name": "base",
   "language": "python",
   "name": "python3"
  },
  "language_info": {
   "codemirror_mode": {
    "name": "ipython",
    "version": 3
   },
   "file_extension": ".py",
   "mimetype": "text/x-python",
   "name": "python",
   "nbconvert_exporter": "python",
   "pygments_lexer": "ipython3",
   "version": "3.11.3"
  },
  "orig_nbformat": 4
 },
 "nbformat": 4,
 "nbformat_minor": 2
}
