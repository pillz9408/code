{
 "cells": [
  {
   "cell_type": "code",
   "execution_count": 7,
   "metadata": {},
   "outputs": [],
   "source": [
    "import os\n",
    "import json\n",
    "from tqdm import tqdm"
   ]
  },
  {
   "cell_type": "code",
   "execution_count": 8,
   "metadata": {},
   "outputs": [],
   "source": [
    "# 폴더를 가져옵니다.\n",
    "raw_data_folder = r\"C:\\Users\\Smart\\Desktop\\datas\\traffic_full\\labeling_data\""
   ]
  },
  {
   "cell_type": "code",
   "execution_count": 9,
   "metadata": {},
   "outputs": [],
   "source": [
    "# 폴더의 파일 목록을 가져옵니다.\n",
    "files = os.listdir(raw_data_folder)"
   ]
  },
  {
   "cell_type": "code",
   "execution_count": 10,
   "metadata": {},
   "outputs": [
    {
     "name": "stderr",
     "output_type": "stream",
     "text": [
      "100%|██████████| 89754/89754 [08:30<00:00, 175.75it/s]\n"
     ]
    }
   ],
   "source": [
    "# 폴더의 파일 목록을 순회합니다.\n",
    "for file in tqdm(files):\n",
    "    # 파일을 읽습니다.\n",
    "    with open(os.path.join(raw_data_folder, file), \"r\", encoding=\"UTF-8\") as f:\n",
    "        data = json.load(f)\n",
    "    \n",
    "     # 파일의 키를 이용하여 해당하는 데이터를 가져옵니다.\n",
    "    file_data = data[list(data.keys())[0]]  # 첫 번째 키값을 가져옵니다.\n",
    "\n",
    "    classes = []\n",
    "\n",
    "    for region_id, region_info in file_data[\"regions\"].items():\n",
    "        label = region_info[\"region_attributes\"][\"class\"]\n",
    "\n",
    "        # `classes` 리스트에 `class` 값을 추가합니다.\n",
    "        classes.append(label)\n",
    "     # `classes` 리스트의 중복을 제거합니다.\n",
    "    classes = set(classes)"
   ]
  },
  {
   "cell_type": "code",
   "execution_count": 11,
   "metadata": {},
   "outputs": [
    {
     "name": "stdout",
     "output_type": "stream",
     "text": [
      "{'정상 차량(이륜차 포함)', '적색 신호등 점등'}\n"
     ]
    }
   ],
   "source": [
    " # `classes` 리스트를 출력합니다.\n",
    "print(classes)"
   ]
  }
 ],
 "metadata": {
  "kernelspec": {
   "display_name": "base",
   "language": "python",
   "name": "python3"
  },
  "language_info": {
   "codemirror_mode": {
    "name": "ipython",
    "version": 3
   },
   "file_extension": ".py",
   "mimetype": "text/x-python",
   "name": "python",
   "nbconvert_exporter": "python",
   "pygments_lexer": "ipython3",
   "version": "3.11.3"
  },
  "orig_nbformat": 4
 },
 "nbformat": 4,
 "nbformat_minor": 2
}
