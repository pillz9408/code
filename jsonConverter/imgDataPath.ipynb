{
 "cells": [
  {
   "cell_type": "code",
   "execution_count": 9,
   "metadata": {},
   "outputs": [],
   "source": [
    "import os\n",
    "import json\n",
    "from tqdm import tqdm"
   ]
  },
  {
   "cell_type": "code",
   "execution_count": 12,
   "metadata": {},
   "outputs": [],
   "source": [
    "json_folder = r\"C:\\Users\\Smart\\Desktop\\datas\\emergency_vehicle\\emergency_labeling_data\\police\\labeling_data\""
   ]
  },
  {
   "cell_type": "code",
   "execution_count": 13,
   "metadata": {},
   "outputs": [
    {
     "name": "stderr",
     "output_type": "stream",
     "text": [
      "100%|██████████| 762/762 [00:00<00:00, 768.07it/s]\n"
     ]
    }
   ],
   "source": [
    "for filename in tqdm(os.listdir(json_folder)):\n",
    "    if filename.endswith(\".json\"):\n",
    "        json_path = os.path.join(json_folder, filename)\n",
    "\n",
    "        with open(json_path, \"r\", encoding=\"utf-8\") as json_file:\n",
    "            data = json.load(json_file)\n",
    "\n",
    "        # imageData를 null로 변경합니다.\n",
    "        data[\"imageData\"] = None\n",
    "\n",
    "        # imagePath에 .jpg를 추가합니다.\n",
    "        if \".jpg\" not in data[\"imagePath\"]:\n",
    "            data[\"imagePath\"] = data[\"imagePath\"] + \".jpg\"\n",
    "\n",
    "        # 수정한 데이터를 JSON 파일에 다시 씁니다.\n",
    "        with open(json_path, \"w\", encoding=\"utf-8\") as json_file:\n",
    "            json.dump(data, json_file, ensure_ascii=False, indent=4)"
   ]
  }
 ],
 "metadata": {
  "kernelspec": {
   "display_name": "base",
   "language": "python",
   "name": "python3"
  },
  "language_info": {
   "codemirror_mode": {
    "name": "ipython",
    "version": 3
   },
   "file_extension": ".py",
   "mimetype": "text/x-python",
   "name": "python",
   "nbconvert_exporter": "python",
   "pygments_lexer": "ipython3",
   "version": "3.11.3"
  },
  "orig_nbformat": 4
 },
 "nbformat": 4,
 "nbformat_minor": 2
}
