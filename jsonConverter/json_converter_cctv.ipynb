{
 "cells": [
  {
   "cell_type": "code",
   "execution_count": 19,
   "metadata": {},
   "outputs": [],
   "source": [
    "import os\n",
    "import json\n",
    "import base64\n",
    "from tqdm import tqdm"
   ]
  },
  {
   "cell_type": "code",
   "execution_count": 20,
   "metadata": {},
   "outputs": [],
   "source": [
    "def convert_to_int(points):\n",
    "    numbers = points.split(\",\")\n",
    "    new_points = [int(number) for number in numbers]\n",
    "    return new_points"
   ]
  },
  {
   "cell_type": "code",
   "execution_count": 21,
   "metadata": {},
   "outputs": [
    {
     "name": "stderr",
     "output_type": "stream",
     "text": [
      "100%|██████████| 3559/3559 [00:19<00:00, 182.26it/s]\n"
     ]
    }
   ],
   "source": [
    "# 폴더를 가져옵니다.\n",
    "raw_data_folder = r\"C:\\Users\\Smart\\Desktop\\datas\\emergency_vehicle\\emergency_labeling_data\\CCTV_data\\labeling_data\"\n",
    "output_folder = r\"C:\\Users\\Smart\\Desktop\\code\\cctv_coverted\"\n",
    "img_folder = r\"C:\\Users\\Smart\\Desktop\\datas\\emergency_vehicle\\emergency_img\\img\"\n",
    "\n",
    "# 폴더의 파일 목록을 가져옵니다.\n",
    "files = os.listdir(raw_data_folder)\n",
    "\n",
    "# 폴더의 파일 목록을 순회합니다.\n",
    "for file in tqdm(files):\n",
    "    # 파일 이름을 가져옵니다.\n",
    "    filename = file.split(\".\")[0]\n",
    "\n",
    "     # 이미지 파일을 열어서 base64로 인코딩합니다.\n",
    "    image_path = os.path.join(img_folder, filename + \".jpg\")\n",
    "    with open(image_path, \"rb\") as img_file:\n",
    "        image_data = base64.b64encode(img_file.read()).decode()\n",
    "\n",
    "    # 파일을 읽습니다.\n",
    "    with open(os.path.join(raw_data_folder, file), \"r\",encoding=\"UTF-8\") as f:\n",
    "        data = json.load(f)\n",
    "\n",
    "    labels = []\n",
    "    shapes = []\n",
    "\n",
    "    for i in range(len(data[\"row\"])):\n",
    "        label = data[\"row\"][i][\"label\"]\n",
    "        attributes1 = data[\"row\"][i][\"attributes1\"]\n",
    "        attributes2 = data[\"row\"][i][\"attributes2\"]\n",
    "        points1 = convert_to_int(data[\"row\"][i][\"points1\"])\n",
    "        # points2 = data[\"row\"][i][\"points2\"]\n",
    "        points3 = convert_to_int(data[\"row\"][i][\"points3\"])\n",
    "        # points4 = data[\"row\"][i][\"points4\"]\n",
    "\n",
    "        if label == \"일반차량\":\n",
    "            label = \"일반차량\"\n",
    "        elif label == \"목적차량(특장차)\":\n",
    "            if attributes2 == \"기타 특장차\":\n",
    "                label = \"일반차량\"\n",
    "            elif attributes2 == \"구급차\":\n",
    "                label = \"ambulance\"\n",
    "            elif attributes2 == \"경찰차\":\n",
    "                label = \"police\"\n",
    "            elif attributes2 == \"소방차\":\n",
    "                label = \"fire_engine\"\n",
    "\n",
    "        labels.append({\n",
    "            \"label\": label,\n",
    "            \"points\":[ \n",
    "                    points1\n",
    "                    # points2\n",
    "                ,\n",
    "                    points3\n",
    "                    # points4\n",
    "            ],\n",
    "            \"group_id\": None,\n",
    "            \"description\": \"\",\n",
    "            \"shape_type\": \"rectangle\",\n",
    "            \"flags\": {}\n",
    "        })\n",
    "\n",
    "    annotation = {\n",
    "        \"version\": \"5.2.1\",\n",
    "        \"flags\": {},\n",
    "        \"shapes\": labels,\n",
    "        \"imagePath\": filename + \".jpg\",\n",
    "        \"imageData\": image_data,\n",
    "        \"imageHeight\": 1080,\n",
    "        \"imageWidth\": 1920\n",
    "    }\n",
    "\n",
    "    # 라벨링 데이터를 다른 폴더에 .json형식으로 저장합니다.\n",
    "    with open(os.path.join(output_folder, filename + \".json\"), \"w\", encoding='UTF-8') as f:\n",
    "        json.dump(annotation, f, ensure_ascii=False, indent=4)"
   ]
  }
 ],
 "metadata": {
  "kernelspec": {
   "display_name": "base",
   "language": "python",
   "name": "python3"
  },
  "language_info": {
   "codemirror_mode": {
    "name": "ipython",
    "version": 3
   },
   "file_extension": ".py",
   "mimetype": "text/x-python",
   "name": "python",
   "nbconvert_exporter": "python",
   "pygments_lexer": "ipython3",
   "version": "3.11.3"
  },
  "orig_nbformat": 4
 },
 "nbformat": 4,
 "nbformat_minor": 2
}
