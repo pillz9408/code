{
 "cells": [
  {
   "cell_type": "code",
   "execution_count": 19,
   "metadata": {},
   "outputs": [],
   "source": [
    "import os\n",
    "import json\n",
    "import shutil\n",
    "from tqdm import tqdm"
   ]
  },
  {
   "cell_type": "code",
   "execution_count": 25,
   "metadata": {},
   "outputs": [],
   "source": [
    "label_data_path = r\"C:\\Users\\Smart\\Desktop\\datas\\general_vehicle\\general_labeling_data\"\n",
    "output_path = r\"C:\\Users\\Smart\\Desktop\\datas\\traffic\\labeling_data\"\n",
    "image_path = r\"C:\\Users\\Smart\\Desktop\\datas\\traffic\\img\"\n",
    "img_data_path = r\"C:\\Users\\Smart\\Desktop\\datas\\general_vehicle\\general_img\""
   ]
  },
  {
   "cell_type": "code",
   "execution_count": 10,
   "metadata": {},
   "outputs": [
    {
     "name": "stderr",
     "output_type": "stream",
     "text": [
      "100%|██████████| 212620/212620 [00:15<00:00, 13436.09it/s]\n"
     ]
    }
   ],
   "source": [
    "# \"신호등\" 문자열이 있는 json 파일을 옮기기\n",
    "json_files = []\n",
    "for file in tqdm(os.listdir(label_data_path)):\n",
    "    if \"json\" in file:\n",
    "        with open(os.path.join(label_data_path, file)) as f:\n",
    "            if \"신호등\" in f.read():\n",
    "                json_files.append(file)\n",
    "\n",
    "for file in json_files:\n",
    "    shutil.move(os.path.join(label_data_path, file), output_path)"
   ]
  },
  {
   "cell_type": "code",
   "execution_count": 28,
   "metadata": {},
   "outputs": [],
   "source": [
    "#옮겨진 json 파일의 .json 확장자를 .jpg로 바꿔서 리스트에 등록 = 이미지 파일명\n",
    "img_files = []\n",
    "for file in os.listdir(output_path):\n",
    "    if \"json\" in file:\n",
    "        new_file_name = file.replace(\".json\", \".jpg\")\n",
    "        img_files.append(new_file_name)"
   ]
  },
  {
   "cell_type": "code",
   "execution_count": 30,
   "metadata": {},
   "outputs": [],
   "source": [
    "#이미지 파일명으로 이미지데이터 폴더에서 이미지 폴더(옮기고자하는 폴더)로 이동\n",
    "for file in img_files:\n",
    "    shutil.move(os.path.join(img_data_path, file), os.path.join(image_path, file))"
   ]
  }
 ],
 "metadata": {
  "kernelspec": {
   "display_name": "base",
   "language": "python",
   "name": "python3"
  },
  "language_info": {
   "codemirror_mode": {
    "name": "ipython",
    "version": 3
   },
   "file_extension": ".py",
   "mimetype": "text/x-python",
   "name": "python",
   "nbconvert_exporter": "python",
   "pygments_lexer": "ipython3",
   "version": "3.11.3"
  },
  "orig_nbformat": 4
 },
 "nbformat": 4,
 "nbformat_minor": 2
}
